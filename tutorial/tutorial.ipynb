{
 "cells": [
  {
   "cell_type": "markdown",
   "metadata": {
    "slideshow": {
     "slide_type": "slide"
    }
   },
   "source": [
    "### MCP(Model Context Protocol) 模型上下文协议"
   ]
  },
  {
   "cell_type": "markdown",
   "metadata": {
    "slideshow": {
     "slide_type": "slide"
    }
   },
   "source": [
    "##### 痛点\n",
    "- 语言模型知识数据库有限\n",
    "- 早期语言模型能力不够强大，幻觉严重\n",
    "##### 需求\n",
    "- 让语言模型可以获取到最新的数据\n",
    "- 基于语言模型更多权限，能够与聊天以外的工具进行交互"
   ]
  },
  {
   "cell_type": "markdown",
   "metadata": {
    "slideshow": {
     "slide_type": "slide"
    }
   },
   "source": [
    "#### Tool Use\n",
    "\n",
    ">- The agent learns to call external APIs for extra information that is missing from the model weights (often hard to change after pre-training), including current information, code execution capability, access to proprietary information sources and more.\n",
    ">- 智能体学习调用外部 API 以获取模型权重中缺失的额外信息（通常在预训练后难以更改），包括当前信息、代码执行能力、对专有信息源的访问等。"
   ]
  },
  {
   "cell_type": "markdown",
   "metadata": {
    "slideshow": {
     "slide_type": "slide"
    }
   },
   "source": [
    "#### 提示词工程\n",
    "通过提示词工程，定义协议，可以让用户按照协议输入，也可以让大模型返回协议，解析文本中的返回，之后**交给工程代码去调用**。\n",
    "\n",
    "##### 流程\n",
    "1. 定义协议，让LLM遵循\n",
    "2. 用户发起发起查询\n",
    "3. LLM处理用户查询，通过自然语言理解用户的意图，可能会请求获取更多信息或者使用某个工具\n",
    "4. 用户解析LLM输出，通过匹配规则去执行相应的工具\n",
    "5. 用户返回工具所需参数\n",
    "6. LLM格式化工具调用，响应请求参数\n",
    "7. 用户本地执行工具，返回工具响应结果\n",
    "8. LLM观测数据，并回答结果"
   ]
  },
  {
   "cell_type": "code",
   "execution_count": null,
   "metadata": {},
   "outputs": [],
   "source": [
    "/*\n",
    "你是一个智能助手，具有以下工具：\n",
    "\n",
    "1. 天气工具 (WEATHER)\n",
    "   - 格式：WEATHER: 城市名称\n",
    "   - 功能：获取指定城市的当前天气情况\n",
    "\n",
    "2. 计算工具 (CALCULATE)\n",
    "   - 格式：CALCULATE: 数学表达式\n",
    "   - 功能：执行数学计算\n",
    "\n",
    "重要规则：\n",
    "- 必须严格遵循上述格式\n",
    "- 只有在确实需要使用工具时才使用\n",
    "- 工具调用应该是输出的唯一内容\n",
    "- 使用工具后，还需要对结果进行自然语言解释\n",
    "\n",
    "示例：\n",
    "\n",
    "用户: 我想知道北京的天气\n",
    "助手: WEATHER: 北京\n",
    "\n",
    "用户: 帮我计算15乘以23\n",
    "助手: CALCULATE: 15 * 23\n",
    "*/\n",
    "\n",
    "! \\\n",
    "export API_KEY=sk-fpNfbaWHy4jMVkjg6e0725E735A24768A46e722e0b0115Ad; \\\n",
    "echo \"API_KEY=$API_KEY\"; \\\n",
    "export PROMPTS=\"你是一个智能助手，具有以下工具：\\n\\n1. 天气工具 (WEATHER)\\n   - 格式：WEATHER: 城市名称\\n   - 功能：获取指定城市的当前天气情况\\n\\n2. 计算工具 (CALCULATE)\\n   - 格式：CALCULATE: 数学表达式\\n   - 功能：执行数学计算\\n\\n重要规则：\\n- 必须严格遵循上述格式\\n- 只有在确实需要使用工具时才使用\\n- 工具调用应该是输出的唯一内容\\n- 使用工具后，还需要对结果进行自然语言解释\\n\\n示例：\\n\\n用户: 我想知道北京的天气\\n助手: WEATHER: 北京\\n\\n用户: 帮我计算15乘以23\\n助手: CALCULATE: 15 * 23\"; \\\n",
    "echo \"PROMPTS=$PROMPTS\"; \\\n",
    "curl -s \"https://api.gptapi.us/v1/chat/completions\" \\\n",
    "    -H \"Content-Type: application/json\" \\\n",
    "    -H \"Authorization: Bearer $API_KEY\" \\\n",
    "    -d '{  \\\n",
    "        \"model\": \"gpt-4o-mini\",     \\\n",
    "        \"messages\": [   \\\n",
    "            {   \\\n",
    "                \"role\": \"system\",    \\\n",
    "                \"content\": \"'\"$PROMPTS\"'\" \\\n",
    "            },  \\\n",
    "    \t    {   \\\n",
    "    \t        \"role\": \"user\", \\\n",
    "    \t        \"content\": \"我想知道北京的天气\"   \\\n",
    "    \t    },  \\\n",
    "            {   \\\n",
    "                \"role\": \"assistant\", \\\n",
    "                \"content\": \"WEATHER: 北京\\n\" \\\n",
    "            },  \\\n",
    "            {   \\\n",
    "                \"role\": \"user\", \\\n",
    "                \"content\": \"北京的天气为晴天\"   \\\n",
    "            } \\\n",
    "        ] \\\n",
    "    }' | jq"
   ]
  },
  {
   "cell_type": "markdown",
   "metadata": {
    "slideshow": {
     "slide_type": "slide"
    }
   },
   "source": [
    "##### 痛点\n",
    "- 早期大模型能力不足，难以严格遵守指令\n",
    "- 早期大模型返回内容可能会不标准，可能会多余返回：“好的，下面是您需要的...\"类似的开场词\n",
    "- 早期大模型上下文有限，难以处理复杂参数工具"
   ]
  },
  {
   "cell_type": "markdown",
   "metadata": {},
   "source": [
    "#### Function Calling\n",
    "\n",
    ">- You can give the model access to your own custom code through function calling. Based on the system prompt and messages, the model may decide to call these functions — instead of (or in addition to) generating text or audio.\n",
    "> You'll then execute the function code, send back the results, and the model will incorporate them into its final response.\n",
    ">- 你可以通过函数调用让模型访问你自己的自定义代码。根据系统提示和消息，模型可能会决定调用这些函数——而不是（或除了）生成文本或音频。\n",
    "> 然后，你将执行函数代码，发回结果，模型会将这些结果整合到其最终响应中。\n",
    "\n",
    "Function Calling 是大型语言模型（LLM）的一项核心功能，它允许模型在生成文本响应的同时，智能地识别何时需要调用外部工具或 API 来获取额外信息或执行特定操作。\n",
    "\n",
    "##### 步骤\n",
    "1. 用户提出请求\n",
    "2. 模型识别意图\n",
    "3. 模型生成函数调用参数\n",
    "4. 外部代码执行函数\n",
    "5. 结果返回给模型\n",
    "6. 模型生成最终响应\n",
    "\n",
    "<img src=\"pics/function-calling-diagram-steps.png\" width=\"40%\" style=\"text-align\">"
   ]
  },
  {
   "cell_type": "markdown",
   "metadata": {},
   "source": [
    "##### OpenAI Function Calling"
   ]
  },
  {
   "cell_type": "code",
   "execution_count": 62,
   "metadata": {},
   "outputs": [
    {
     "name": "stdout",
     "output_type": "stream",
     "text": [
      "{\n",
      "  \"id\": \"chatcmpl-BXTI9B8RdjuZ4uzUdbVPZE1Ih3QhR\",\n",
      "  \"object\": \"chat.completion\",\n",
      "  \"created\": 1747317121,\n",
      "  \"model\": \"gpt-4o-mini-2024-07-18\",\n",
      "  \"choices\": [\n",
      "    {\n",
      "      \"index\": 0,\n",
      "      \"message\": {\n",
      "        \"role\": \"assistant\",\n",
      "        \"tool_calls\": [\n",
      "          {\n",
      "            \"function\": {\n",
      "              \"arguments\": \"{\\\"location\\\":\\\"北京\\\"}\",\n",
      "              \"name\": \"get_current_weather\",\n",
      "              \"parameters\": null\n",
      "            },\n",
      "            \"id\": \"call_hZBbdshnxI66eoqBCP4rRGjS\",\n",
      "            \"type\": \"function\"\n",
      "          }\n",
      "        ]\n",
      "      },\n",
      "      \"finish_reason\": \"tool_calls\"\n",
      "    }\n",
      "  ],\n",
      "  \"usage\": {\n",
      "    \"prompt_tokens\": 76,\n",
      "    \"completion_tokens\": 16,\n",
      "    \"total_tokens\": 92,\n",
      "    \"prompt_tokens_details\": {\n",
      "      \"cached_tokens\": 0,\n",
      "      \"audio_tokens\": 0\n",
      "    },\n",
      "    \"completion_tokens_details\": {\n",
      "      \"reasoning_tokens\": 0,\n",
      "      \"audio_tokens\": 0,\n",
      "      \"accepted_prediction_tokens\": 0,\n",
      "      \"rejected_prediction_tokens\": 0\n",
      "    }\n",
      "  },\n",
      "  \"system_fingerprint\": \"fp_7a53abb7a2\"\n",
      "}\n"
     ]
    }
   ],
   "source": [
    "!   \\\n",
    "export API_KEY=sk-fpNfbaWHy4jMVkjg6e0725E735A24768A46e722e0b0115Ad; \\\n",
    "curl -s \"https://api.gptapi.us/v1/chat/completions\" \\\n",
    "    -H \"Content-Type: application/json\" \\\n",
    "    -H \"Authorization: Bearer $API_KEY\" \\\n",
    "    -d '{\\\n",
    "        \"model\": \"gpt-4o-mini\", \\\n",
    "        \"messages\": [\\\n",
    "            { \\\n",
    "                \"role\": \"user\", \\\n",
    "                \"content\": \"现在北京的天气是什么?\" \\\n",
    "            } \\\n",
    "        ], \\\n",
    "        \"tools\": [\\\n",
    "            { \\\n",
    "                \"type\": \"function\", \\\n",
    "                \"function\": { \\\n",
    "                    \"name\": \"get_current_weather\", \\\n",
    "                    \"description\": \"获取一个位置的当前天气\", \\\n",
    "                    \"parameters\": { \\\n",
    "                        \"type\": \"object\", \\\n",
    "                        \"properties\": { \\\n",
    "                            \"location\": { \"type\": \"string\", \"description\": \"一个位置, 例如: 北京, 上海, 广州\" }, \\\n",
    "                            \"unit\": { \"type\": \"string\", \"enum\": [\"celsius\", \"fahrenheit\"] } \\\n",
    "                        }, \\\n",
    "                        \"required\": [\"location\"] \\\n",
    "                    } \\\n",
    "                } \\\n",
    "            } \\\n",
    "        ], \\\n",
    "        \"tool_choice\": \"auto\" \\\n",
    "    }' | jq"
   ]
  },
  {
   "cell_type": "code",
   "execution_count": null,
   "metadata": {},
   "outputs": [],
   "source": [
    "!\\\n",
    "export API_KEY=sk-fpNfbaWHy4jMVkjg6e0725E735A24768A46e722e0b0115Ad; \\\n",
    "curl -s \"https://api.gptapi.us/v1/chat/completions\" \\\n",
    "    -H \"Content-Type: application/json\" \\\n",
    "    -H \"Authorization: Bearer $API_KEY\" \\\n",
    "    -d '{   \\\n",
    "        \"model\": \"gpt-4o-mini\", \\\n",
    "        \"messages\": [ \\\n",
    "            { \\\n",
    "                \"role\": \"user\", \\\n",
    "                \"content\": \"北京天气怎么样？\" \\\n",
    "            }, \\\n",
    "            { \\\n",
    "                \"role\": \"assistant\",   \\\n",
    "                \"tool_calls\": [ \\\n",
    "                    { \\\n",
    "                        \"id\": \"call_hZBbdshnxI66eoqBCP4rRGjS\", \\\n",
    "                        \"type\": \"function\", \\\n",
    "                        \"function\": { \\\n",
    "                            \"name\": \"get_current_weather\", \\\n",
    "                            \"arguments\": \"{\\\"location\\\":\\\"北京\\\"}\" \\\n",
    "                        } \\\n",
    "                    } \\\n",
    "                ] \\\n",
    "            }, \\\n",
    "            { \\\n",
    "                \"role\": \"tool\", \\\n",
    "                \"tool_call_id\": \"call_hZBbdshnxI66eoqBCP4rRGjS\", \\\n",
    "                \"content\": \"{\\\"temperature\\\": \\\"25\\\", \\\"description\\\": \\\"阴天\\\"}\" \\\n",
    "            } \\\n",
    "        ], \\\n",
    "        \"tools\": [\\\n",
    "            { \\\n",
    "                \"type\": \"function\", \\\n",
    "                \"function\": { \\\n",
    "                    \"name\": \"get_current_weather\", \\\n",
    "                    \"description\": \"获取一个位置的当前天气\", \\\n",
    "                    \"parameters\": { \\\n",
    "                        \"type\": \"object\", \\\n",
    "                        \"properties\": { \\\n",
    "                            \"location\": { \"type\": \"string\", \"description\": \"一个位置, 例如: 北京, 上海, 广州\" }, \\\n",
    "                            \"unit\": { \"type\": \"string\", \"enum\": [\"celsius\", \"fahrenheit\"] } \\\n",
    "                        }, \\\n",
    "                        \"required\": [\"location\"] \\\n",
    "                    } \\\n",
    "                } \\\n",
    "            } \\\n",
    "        ], \\\n",
    "        \"tool_choice\": \"auto\" \\\n",
    "    }' | jq"
   ]
  },
  {
   "cell_type": "markdown",
   "metadata": {},
   "source": [
    "#### Function Callings 比较\n",
    "\n",
    "##### Function Define\n",
    "- OpenAI <br>\n",
    "    ```json\n",
    "    {\n",
    "      \"model\": \"gpt-4o-mini\",\n",
    "      \"messages\": [{\"role\": \"user\", \"content\": \"What's the weather like in Boston?\"}],\n",
    "      \"tools\": [\n",
    "        {\n",
    "          \"type\": \"function\",\n",
    "          \"function\": {\n",
    "            \"name\": \"get_current_weather\",\n",
    "            \"description\": \"Get the current weather in a given location\",\n",
    "            \"parameters\": {\n",
    "              \"type\": \"object\",\n",
    "              \"properties\": {\n",
    "                \"location\": {\"type\": \"string\", \"description\": \"The city and state\"},\n",
    "                \"unit\": {\"type\": \"string\", \"enum\": [\"celsius\", \"fahrenheit\"]}\n",
    "              },\n",
    "              \"required\": [\"location\"]\n",
    "            }\n",
    "          }\n",
    "        }\n",
    "      ]\n",
    "    }\n",
    "    ```\n",
    "- Gemini <br>\n",
    "    ``` json\n",
    "    {\n",
    "      \"contents\": [{\"role\": \"user\", \"parts\": [{\"text\": \"What's the weather like in Boston?\"}]}],\n",
    "      \"tools\": [\n",
    "        {\n",
    "          \"functionDeclarations\": [\n",
    "            {\n",
    "              \"name\": \"get_current_weather\",\n",
    "              \"description\": \"Get the current weather in a given location\",\n",
    "              \"parameters\": {\n",
    "                \"type\": \"object\", \n",
    "                \"properties\": {\n",
    "                  \"location\": {\"type\": \"string\"},\n",
    "                  \"unit\": {\"type\": \"string\", \"enum\": [\"celsius\", \"fahrenheit\"]}\n",
    "                },\n",
    "                \"required\": [\"location\"]\n",
    "              }\n",
    "            }\n",
    "          ]\n",
    "        }\n",
    "      ]\n",
    "    }\n",
    "    ```\n",
    "- Claude <br>\n",
    "    ```json\n",
    "    {\n",
    "      \"model\": \"claude-3-7-sonnet-20250219\",\n",
    "      \"max_tokens\": 1024,\n",
    "      \"tools\": [\n",
    "        {\n",
    "          \"name\": \"get_weather\",\n",
    "          \"description\": \"Get the current weather in a given location\",\n",
    "          \"input_schema\": {\n",
    "            \"type\": \"object\",\n",
    "            \"properties\": {\n",
    "              \"location\": {\n",
    "                \"type\": \"string\",\n",
    "                \"description\": \"The city and state, e.g. San Francisco, CA\"\n",
    "              }\n",
    "            },\n",
    "            \"required\": [\n",
    "              \"location\"\n",
    "            ]\n",
    "          }\n",
    "        }\n",
    "      ],\n",
    "      \"messages\": [\n",
    "        {\n",
    "          \"role\": \"user\",\n",
    "          \"content\": \"What is the weather like in San Francisco?\"\n",
    "        }\n",
    "      ]\n",
    "    }\n",
    "    ```\n",
    "    <br>\n",
    "<img src=\"pics/standards.png\" width=40%>"
   ]
  },
  {
   "cell_type": "markdown",
   "metadata": {},
   "source": [
    "#### 痛点\n",
    "\n",
    "- 每个LLM服务商都有不同的 Function Calling 调用方法\n",
    "- Function Call 需要用户或开发者手动执行"
   ]
  },
  {
   "cell_type": "markdown",
   "metadata": {},
   "source": [
    "#### MCP(Model Context Protocol)\n",
    "\n",
    ">- MCP is an open protocol that standardizes how applications provide context to LLMs. Think of MCP like a USB-C port for AI applications. Just as USB-C provides a standardized way to connect your devices to various peripherals and accessories, MCP provides a standardized way to connect AI models to different data sources and tools.\n",
    ">- MCP是一个开放协议,用于标准化应用程序如何为LLM提供上下文。将MCP视为用于AI应用的USB-C端口。正如USB-C提供了一种将设备连接到各种外围设备和配件的标准化方式,MCP提供了一种标准化的方式将AI模型连接到不同的数据源和工具。\n",
    "\n",
    "<br>\n",
    "<img src=\"pics/api_overview.png\" width=60%>\n",
    "<img src=\"pics/mcp_overview.png\" width=60%>"
   ]
  },
  {
   "cell_type": "markdown",
   "metadata": {},
   "source": [
    "#### 解决痛点\n",
    "\n",
    "- 各LLM提供商的 Function Calling 调用标准不一致(尽管大部分提供商都做了OpenAI API格式兼容)\n",
    "- Function Call 需要开发者或用户手动去执行\n",
    "\n",
    "#### 额外好处\n",
    "\n",
    "- 可提供远程或本地的数据源以及工具，供LLM使用\n",
    "- 相比完全由用户执行的 Function Call，MCP能够保护数据源"
   ]
  },
  {
   "cell_type": "markdown",
   "metadata": {},
   "source": [
    "#### MCP架构\n",
    "<br>\n",
    "<img src=\"pics/mcp-architectures.png\" width=50%>\n",
    "<br>\n",
    " \n",
    "- MCP 主机 : 想要通过 MCP 访问数据的 Claude Desktop、IDE 或 AI 工具等程序\n",
    "- MCP 客户端 : 与服务器保持 1:1 连接的协议客户端\n",
    "- MCP 服务器 : 轻量级程序,每个程序通过标准化的模型上下文协议暴露特定功能\n",
    "- 本地数据源 : MCP 服务器可以安全访问的计算机文件、数据库和服务\n",
    "- 远程服务 :通过互联网提供的外部系统(例如,通过API),MCP服务器可以连接到\n"
   ]
  }
 ],
 "metadata": {
  "kernelspec": {
   "display_name": "Go (gonb)",
   "language": "go",
   "name": "gonb"
  },
  "language_info": {
   "codemirror_mode": "",
   "file_extension": ".go",
   "mimetype": "text/x-go",
   "name": "go",
   "nbconvert_exporter": "",
   "pygments_lexer": "",
   "version": "go1.24.3"
  }
 },
 "nbformat": 4,
 "nbformat_minor": 2
}
